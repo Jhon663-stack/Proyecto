{
 "cells": [
  {
   "cell_type": "markdown",
   "id": "3edef424-4c09-44f9-b9d7-c968a725b502",
   "metadata": {},
   "source": [
    "<h1>Librerias importadas"
   ]
  },
  {
   "cell_type": "code",
   "execution_count": 5,
   "id": "1ba172ab-da3b-4daf-8b4d-7fa4c41e7b73",
   "metadata": {},
   "outputs": [],
   "source": [
    "# Importar las librerías necesarias\n",
    "import pandas as pd\n",
    "import numpy as np\n",
    "import matplotlib.pyplot as plt\n",
    "import seaborn as sns\n",
    "from sklearn.model_selection import train_test_split\n",
    "from sklearn.linear_model import LogisticRegression\n",
    "from sklearn.metrics import classification_report, confusion_matrix, roc_curve, auc,accuracy_score"
   ]
  },
  {
   "cell_type": "code",
   "execution_count": 7,
   "id": "3212c3d6-a96a-4d96-bb17-0710d1bf859f",
   "metadata": {},
   "outputs": [
    {
     "name": "stdout",
     "output_type": "stream",
     "text": [
      "Primeras filas del dataset:\n"
     ]
    },
    {
     "data": {
      "text/html": [
       "<div>\n",
       "<style scoped>\n",
       "    .dataframe tbody tr th:only-of-type {\n",
       "        vertical-align: middle;\n",
       "    }\n",
       "\n",
       "    .dataframe tbody tr th {\n",
       "        vertical-align: top;\n",
       "    }\n",
       "\n",
       "    .dataframe thead th {\n",
       "        text-align: right;\n",
       "    }\n",
       "</style>\n",
       "<table border=\"1\" class=\"dataframe\">\n",
       "  <thead>\n",
       "    <tr style=\"text-align: right;\">\n",
       "      <th></th>\n",
       "      <th>PassengerId</th>\n",
       "      <th>Survived</th>\n",
       "      <th>Pclass</th>\n",
       "      <th>Name</th>\n",
       "      <th>Sex</th>\n",
       "      <th>Age</th>\n",
       "      <th>SibSp</th>\n",
       "      <th>Parch</th>\n",
       "      <th>Ticket</th>\n",
       "      <th>Fare</th>\n",
       "      <th>Cabin</th>\n",
       "      <th>Embarked</th>\n",
       "    </tr>\n",
       "  </thead>\n",
       "  <tbody>\n",
       "    <tr>\n",
       "      <th>0</th>\n",
       "      <td>1</td>\n",
       "      <td>0</td>\n",
       "      <td>3</td>\n",
       "      <td>Braund, Mr. Owen Harris</td>\n",
       "      <td>male</td>\n",
       "      <td>22.0</td>\n",
       "      <td>1</td>\n",
       "      <td>0</td>\n",
       "      <td>A/5 21171</td>\n",
       "      <td>7.2500</td>\n",
       "      <td>NaN</td>\n",
       "      <td>S</td>\n",
       "    </tr>\n",
       "    <tr>\n",
       "      <th>1</th>\n",
       "      <td>2</td>\n",
       "      <td>1</td>\n",
       "      <td>1</td>\n",
       "      <td>Cumings, Mrs. John Bradley (Florence Briggs Th...</td>\n",
       "      <td>female</td>\n",
       "      <td>38.0</td>\n",
       "      <td>1</td>\n",
       "      <td>0</td>\n",
       "      <td>PC 17599</td>\n",
       "      <td>71.2833</td>\n",
       "      <td>C85</td>\n",
       "      <td>C</td>\n",
       "    </tr>\n",
       "    <tr>\n",
       "      <th>2</th>\n",
       "      <td>3</td>\n",
       "      <td>1</td>\n",
       "      <td>3</td>\n",
       "      <td>Heikkinen, Miss. Laina</td>\n",
       "      <td>female</td>\n",
       "      <td>26.0</td>\n",
       "      <td>0</td>\n",
       "      <td>0</td>\n",
       "      <td>STON/O2. 3101282</td>\n",
       "      <td>7.9250</td>\n",
       "      <td>NaN</td>\n",
       "      <td>S</td>\n",
       "    </tr>\n",
       "    <tr>\n",
       "      <th>3</th>\n",
       "      <td>4</td>\n",
       "      <td>1</td>\n",
       "      <td>1</td>\n",
       "      <td>Futrelle, Mrs. Jacques Heath (Lily May Peel)</td>\n",
       "      <td>female</td>\n",
       "      <td>35.0</td>\n",
       "      <td>1</td>\n",
       "      <td>0</td>\n",
       "      <td>113803</td>\n",
       "      <td>53.1000</td>\n",
       "      <td>C123</td>\n",
       "      <td>S</td>\n",
       "    </tr>\n",
       "    <tr>\n",
       "      <th>4</th>\n",
       "      <td>5</td>\n",
       "      <td>0</td>\n",
       "      <td>3</td>\n",
       "      <td>Allen, Mr. William Henry</td>\n",
       "      <td>male</td>\n",
       "      <td>35.0</td>\n",
       "      <td>0</td>\n",
       "      <td>0</td>\n",
       "      <td>373450</td>\n",
       "      <td>8.0500</td>\n",
       "      <td>NaN</td>\n",
       "      <td>S</td>\n",
       "    </tr>\n",
       "  </tbody>\n",
       "</table>\n",
       "</div>"
      ],
      "text/plain": [
       "   PassengerId  Survived  Pclass  \\\n",
       "0            1         0       3   \n",
       "1            2         1       1   \n",
       "2            3         1       3   \n",
       "3            4         1       1   \n",
       "4            5         0       3   \n",
       "\n",
       "                                                Name     Sex   Age  SibSp  \\\n",
       "0                            Braund, Mr. Owen Harris    male  22.0      1   \n",
       "1  Cumings, Mrs. John Bradley (Florence Briggs Th...  female  38.0      1   \n",
       "2                             Heikkinen, Miss. Laina  female  26.0      0   \n",
       "3       Futrelle, Mrs. Jacques Heath (Lily May Peel)  female  35.0      1   \n",
       "4                           Allen, Mr. William Henry    male  35.0      0   \n",
       "\n",
       "   Parch            Ticket     Fare Cabin Embarked  \n",
       "0      0         A/5 21171   7.2500   NaN        S  \n",
       "1      0          PC 17599  71.2833   C85        C  \n",
       "2      0  STON/O2. 3101282   7.9250   NaN        S  \n",
       "3      0            113803  53.1000  C123        S  \n",
       "4      0            373450   8.0500   NaN        S  "
      ]
     },
     "metadata": {},
     "output_type": "display_data"
    },
    {
     "name": "stdout",
     "output_type": "stream",
     "text": [
      "\n",
      "Información del dataset:\n",
      "<class 'pandas.core.frame.DataFrame'>\n",
      "RangeIndex: 891 entries, 0 to 890\n",
      "Data columns (total 12 columns):\n",
      " #   Column       Non-Null Count  Dtype  \n",
      "---  ------       --------------  -----  \n",
      " 0   PassengerId  891 non-null    int64  \n",
      " 1   Survived     891 non-null    int64  \n",
      " 2   Pclass       891 non-null    int64  \n",
      " 3   Name         891 non-null    object \n",
      " 4   Sex          891 non-null    object \n",
      " 5   Age          714 non-null    float64\n",
      " 6   SibSp        891 non-null    int64  \n",
      " 7   Parch        891 non-null    int64  \n",
      " 8   Ticket       891 non-null    object \n",
      " 9   Fare         891 non-null    float64\n",
      " 10  Cabin        204 non-null    object \n",
      " 11  Embarked     889 non-null    object \n",
      "dtypes: float64(2), int64(5), object(5)\n",
      "memory usage: 83.7+ KB\n"
     ]
    }
   ],
   "source": [
    "data = pd.read_csv('Titanic-Dataset.csv')\n",
    "print(\"Primeras filas del dataset:\")\n",
    "display(data.head())\n",
    "\n",
    "print(\"\\nInformación del dataset:\")\n",
    "data.info()"
   ]
  },
  {
   "cell_type": "code",
   "execution_count": 5,
   "id": "3ced6955-929b-4358-945e-9b1ca5f8e450",
   "metadata": {},
   "outputs": [
    {
     "name": "stdout",
     "output_type": "stream",
     "text": [
      "   PassengerId  Survived  Pclass  \\\n",
      "0            1         0       3   \n",
      "1            2         1       1   \n",
      "2            3         1       3   \n",
      "3            4         1       1   \n",
      "4            5         0       3   \n",
      "\n",
      "                                                Name     Sex   Age  SibSp  \\\n",
      "0                            Braund, Mr. Owen Harris    male  22.0      1   \n",
      "1  Cumings, Mrs. John Bradley (Florence Briggs Th...  female  38.0      1   \n",
      "2                             Heikkinen, Miss. Laina  female  26.0      0   \n",
      "3       Futrelle, Mrs. Jacques Heath (Lily May Peel)  female  35.0      1   \n",
      "4                           Allen, Mr. William Henry    male  35.0      0   \n",
      "\n",
      "   Parch            Ticket     Fare Cabin Embarked  \n",
      "0      0         A/5 21171   7.2500   NaN        S  \n",
      "1      0          PC 17599  71.2833   C85        C  \n",
      "2      0  STON/O2. 3101282   7.9250   NaN        S  \n",
      "3      0            113803  53.1000  C123        S  \n",
      "4      0            373450   8.0500   NaN        S  \n"
     ]
    }
   ],
   "source": [
    "# Mostrar las primeras filas\n",
    "print(data.head())"
   ]
  },
  {
   "cell_type": "markdown",
   "id": "059e51e6-c4b7-472e-a6aa-504d32a81869",
   "metadata": {},
   "source": [
    "<h1>- Análisis Exploratorio de Datos (EDA)"
   ]
  },
  {
   "cell_type": "code",
   "execution_count": 8,
   "id": "318679fd-635d-44ed-abb0-b35532041812",
   "metadata": {},
   "outputs": [
    {
     "name": "stdout",
     "output_type": "stream",
     "text": [
      "<class 'pandas.core.frame.DataFrame'>\n",
      "RangeIndex: 891 entries, 0 to 890\n",
      "Data columns (total 12 columns):\n",
      " #   Column       Non-Null Count  Dtype  \n",
      "---  ------       --------------  -----  \n",
      " 0   PassengerId  891 non-null    int64  \n",
      " 1   Survived     891 non-null    int64  \n",
      " 2   Pclass       891 non-null    int64  \n",
      " 3   Name         891 non-null    object \n",
      " 4   Sex          891 non-null    object \n",
      " 5   Age          714 non-null    float64\n",
      " 6   SibSp        891 non-null    int64  \n",
      " 7   Parch        891 non-null    int64  \n",
      " 8   Ticket       891 non-null    object \n",
      " 9   Fare         891 non-null    float64\n",
      " 10  Cabin        204 non-null    object \n",
      " 11  Embarked     889 non-null    object \n",
      "dtypes: float64(2), int64(5), object(5)\n",
      "memory usage: 83.7+ KB\n",
      "None\n",
      "       PassengerId    Survived      Pclass         Age       SibSp  \\\n",
      "count   891.000000  891.000000  891.000000  714.000000  891.000000   \n",
      "mean    446.000000    0.383838    2.308642   29.699118    0.523008   \n",
      "std     257.353842    0.486592    0.836071   14.526497    1.102743   \n",
      "min       1.000000    0.000000    1.000000    0.420000    0.000000   \n",
      "25%     223.500000    0.000000    2.000000   20.125000    0.000000   \n",
      "50%     446.000000    0.000000    3.000000   28.000000    0.000000   \n",
      "75%     668.500000    1.000000    3.000000   38.000000    1.000000   \n",
      "max     891.000000    1.000000    3.000000   80.000000    8.000000   \n",
      "\n",
      "            Parch        Fare  \n",
      "count  891.000000  891.000000  \n",
      "mean     0.381594   32.204208  \n",
      "std      0.806057   49.693429  \n",
      "min      0.000000    0.000000  \n",
      "25%      0.000000    7.910400  \n",
      "50%      0.000000   14.454200  \n",
      "75%      0.000000   31.000000  \n",
      "max      6.000000  512.329200  \n",
      "PassengerId      0\n",
      "Survived         0\n",
      "Pclass           0\n",
      "Name             0\n",
      "Sex              0\n",
      "Age            177\n",
      "SibSp            0\n",
      "Parch            0\n",
      "Ticket           0\n",
      "Fare             0\n",
      "Cabin          687\n",
      "Embarked         2\n",
      "dtype: int64\n"
     ]
    },
    {
     "data": {
      "image/png": "[encoded data removed]",
      "text/plain": [
       "<Figure size 640x480 with 1 Axes>"
      ]
     },
     "metadata": {},
     "output_type": "display_data"
    },
    {
     "data": {
      "image/png": "[encoded data removed]",
      "text/plain": [
       "<Figure size 640x480 with 1 Axes>"
      ]
     },
     "metadata": {},
     "output_type": "display_data"
    },
    {
     "data": {
      "image/png": "[encoded data removed]",
      "text/plain": [
       "<Figure size 640x480 with 1 Axes>"
      ]
     },
     "metadata": {},
     "output_type": "display_data"
    }
   ],
   "source": [
    "# Resumen general\n",
    "print(data.info())\n",
    "print(data.describe())\n",
    "\n",
    "# Identificar valores nulos\n",
    "print(data.isnull().sum())\n",
    "\n",
    "# Distribución de sobrevivientes\n",
    "sns.countplot(x='Survived', data=data)\n",
    "plt.title(\"Distribución de Sobrevivientes\")\n",
    "plt.show()\n",
    "\n",
    "# Relación entre Clase y Supervivencia\n",
    "sns.barplot(x='Pclass', y='Survived', data=data)\n",
    "plt.title(\"Supervivencia según Clase\")\n",
    "plt.show()\n",
    "\n",
    "# Relación entre Sexo y Supervivencia\n",
    "sns.barplot(x='Sex', y='Survived', data=data)\n",
    "plt.title(\"Supervivencia según Sexo\")\n",
    "plt.show()"
   ]
  },
  {
   "cell_type": "markdown",
   "id": "9842bc15-a7f4-4a13-a551-052854412227",
   "metadata": {},
   "source": [
    "<h1>- Preprocesamiento"
   ]
  },
  {
   "cell_type": "code",
   "execution_count": 12,
   "id": "7d504e3c-849f-4fba-9a8e-d0ee87033fc1",
   "metadata": {},
   "outputs": [
    {
     "name": "stdout",
     "output_type": "stream",
     "text": [
      "   PassengerId  Survived  Pclass   Age  SibSp  Parch     Fare  Sex_male  \\\n",
      "0            1         0       3  22.0      1      0   7.2500      True   \n",
      "1            2         1       1  38.0      1      0  71.2833     False   \n",
      "2            3         1       3  26.0      0      0   7.9250     False   \n",
      "3            4         1       1  35.0      1      0  53.1000     False   \n",
      "4            5         0       3  35.0      0      0   8.0500      True   \n",
      "\n",
      "   Embarked_Q  Embarked_S  \n",
      "0       False        True  \n",
      "1       False       False  \n",
      "2       False        True  \n",
      "3       False        True  \n",
      "4       False        True  \n"
     ]
    }
   ],
   "source": [
    "# Tratar valores faltantes en 'Age' y 'Survived'\n",
    "if 'Age' in data.columns:\n",
    "    data['Age'] = data['Age'].fillna(data['Age'].median())\n",
    "\n",
    "if 'Survived' in data.columns:\n",
    "    data['Survived'] = data['Survived'].fillna(data['Survived'].mode()[0])\n",
    "\n",
    "# Eliminar columnas irrelevantes de forma segura\n",
    "columns_to_drop = ['Cabin', 'Ticket', 'Name']\n",
    "data = data.drop(columns=columns_to_drop, errors='ignore')\n",
    "\n",
    "# Convertir variables categóricas en dummies con mejor control\n",
    "categorical_columns = ['Sex']  # 'Embarked' ya no se usa, enfoque en 'Sex'\n",
    "data = pd.get_dummies(data, columns=[col for col in categorical_columns if col in data.columns], drop_first=True)\n",
    "\n",
    "# Verificar el dataset preprocesado\n",
    "print(data.head())"
   ]
  },
  {
   "cell_type": "markdown",
   "id": "1d8e86dd-6b21-402a-bce3-53f8d65fa7a9",
   "metadata": {},
   "source": [
    "<h1>- Selección de Características"
   ]
  },
  {
   "cell_type": "code",
   "execution_count": 13,
   "id": "d592bee6-a948-43cb-b072-0eb526af5310",
   "metadata": {},
   "outputs": [
    {
     "name": "stdout",
     "output_type": "stream",
     "text": [
      "Correlación con la variable objetivo:\n",
      " Survived       1.000000\n",
      "Fare           0.257307\n",
      "Parch          0.081629\n",
      "Embarked_Q     0.003650\n",
      "PassengerId   -0.005007\n",
      "SibSp         -0.035322\n",
      "Age           -0.064910\n",
      "Embarked_S    -0.149683\n",
      "Pclass        -0.338481\n",
      "Sex_male      -0.543351\n",
      "Name: Survived, dtype: float64\n"
     ]
    }
   ],
   "source": [
    "# Correlación con la variable objetivo\n",
    "correlation = data.corr()['Survived'].sort_values(ascending=False)\n",
    "print(\"Correlación con la variable objetivo:\\n\", correlation)\n",
    "\n",
    "# Eliminar características irrelevantes\n",
    "X = data.drop('Survived', axis=1)\n",
    "y = data['Survived']"
   ]
  },
  {
   "cell_type": "markdown",
   "id": "08ef8cbd-d3d1-4ebe-a69e-d50e1fda6a4d",
   "metadata": {},
   "source": [
    "<h1>- División del Dataset"
   ]
  },
  {
   "cell_type": "code",
   "execution_count": 14,
   "id": "a4b2f41d-de91-49d8-8135-f3932b534bb2",
   "metadata": {},
   "outputs": [
    {
     "name": "stdout",
     "output_type": "stream",
     "text": [
      "     PassengerId  Pclass   Age  SibSp  Parch      Fare  Sex_male  Embarked_Q  \\\n",
      "331          332       1  45.5      0      0   28.5000      True       False   \n",
      "733          734       2  23.0      0      0   13.0000      True       False   \n",
      "382          383       3  32.0      0      0    7.9250      True       False   \n",
      "704          705       3  26.0      1      0    7.8542      True       False   \n",
      "813          814       3   6.0      4      2   31.2750     False       False   \n",
      "..           ...     ...   ...    ...    ...       ...       ...         ...   \n",
      "106          107       3  21.0      0      0    7.6500     False       False   \n",
      "270          271       1  28.0      0      0   31.0000      True       False   \n",
      "860          861       3  41.0      2      0   14.1083      True       False   \n",
      "435          436       1  14.0      1      2  120.0000     False       False   \n",
      "102          103       1  21.0      0      1   77.2875      True       False   \n",
      "\n",
      "     Embarked_S  \n",
      "331        True  \n",
      "733        True  \n",
      "382        True  \n",
      "704        True  \n",
      "813        True  \n",
      "..          ...  \n",
      "106        True  \n",
      "270        True  \n",
      "860        True  \n",
      "435        True  \n",
      "102        True  \n",
      "\n",
      "[712 rows x 9 columns]\n",
      "709    1\n",
      "439    0\n",
      "840    0\n",
      "720    1\n",
      "39     1\n",
      "      ..\n",
      "433    0\n",
      "773    0\n",
      "25     1\n",
      "84     1\n",
      "10     1\n",
      "Name: Survived, Length: 179, dtype: int64\n"
     ]
    }
   ],
   "source": [
    "# División en conjunto de entrenamiento y prueba\n",
    "X_train, X_test, y_train, y_test = train_test_split(X, y, test_size=0.2, random_state=42)\n",
    "print(X_train)\n",
    "print(y_test)"
   ]
  },
  {
   "cell_type": "markdown",
   "id": "9c1f0eea-c624-43c3-87e6-4acffce41142",
   "metadata": {},
   "source": [
    "<h1>- Entrenamiento del Modelo"
   ]
  },
  {
   "cell_type": "code",
   "execution_count": 19,
   "id": "13818880-d2bd-422b-b17c-061ec0a9d20b",
   "metadata": {},
   "outputs": [
    {
     "name": "stdout",
     "output_type": "stream",
     "text": [
      "Coeficientes del modelo:\n",
      "PassengerId: 0.0004\n",
      "Pclass: -0.9377\n",
      "Age: -0.0307\n",
      "SibSp: -0.2879\n",
      "Parch: -0.1187\n",
      "Fare: 0.0026\n",
      "Sex_male: -2.6112\n",
      "Embarked_Q: -0.1064\n",
      "Embarked_S: -0.3999\n",
      "\n",
      "Métricas de Evaluación:\n",
      "Precisión del modelo: 0.8045\n",
      "\n",
      "Reporte de Clasificación:\n",
      "              precision    recall  f1-score   support\n",
      "\n",
      "           0       0.82      0.85      0.84       105\n",
      "           1       0.77      0.74      0.76        74\n",
      "\n",
      "    accuracy                           0.80       179\n",
      "   macro avg       0.80      0.80      0.80       179\n",
      "weighted avg       0.80      0.80      0.80       179\n",
      "\n",
      "\n",
      "Matriz de Confusión:\n",
      "[[89 16]\n",
      " [19 55]]\n"
     ]
    }
   ],
   "source": [
    "# Crear y entrenar el modelo de Regresión Logística\n",
    "model = LogisticRegression(max_iter=1000)\n",
    "model.fit(X_train, y_train)\n",
    "\n",
    "# Imprimir los coeficientes del modelo\n",
    "print(\"Coeficientes del modelo:\")\n",
    "for feature, coef in zip(X_train.columns, model.coef_[0]):\n",
    "    print(f\"{feature}: {coef:.4f}\")\n",
    "\n",
    "# Evaluar en el conjunto de prueba\n",
    "y_pred = model.predict(X_test)\n",
    "\n",
    "# Métricas de evaluación\n",
    "print(\"\\nMétricas de Evaluación:\")\n",
    "print(f\"Precisión del modelo: {accuracy_score(y_test, y_pred):.4f}\")\n",
    "print(\"\\nReporte de Clasificación:\")\n",
    "print(classification_report(y_test, y_pred))\n",
    "\n",
    "# Matriz de Confusión\n",
    "print(\"\\nMatriz de Confusión:\")\n",
    "conf_matrix = confusion_matrix(y_test, y_pred)\n",
    "print(conf_matrix)"
   ]
  },
  {
   "cell_type": "markdown",
   "id": "1d67bbc9-d7c7-4f73-a22a-e6c79f2a7dba",
   "metadata": {},
   "source": [
    "<h1>- Evaluación del Modelo"
   ]
  },
  {
   "cell_type": "code",
   "execution_count": 16,
   "id": "70e3efe8-3981-45fa-89ae-d15067792a27",
   "metadata": {},
   "outputs": [
    {
     "name": "stdout",
     "output_type": "stream",
     "text": [
      "Reporte de Clasificación:\n",
      "               precision    recall  f1-score   support\n",
      "\n",
      "           0       0.82      0.85      0.84       105\n",
      "           1       0.77      0.74      0.76        74\n",
      "\n",
      "    accuracy                           0.80       179\n",
      "   macro avg       0.80      0.80      0.80       179\n",
      "weighted avg       0.80      0.80      0.80       179\n",
      "\n"
     ]
    },
    {
     "data": {
      "image/png": "[encoded data removed]",
      "text/plain": [
       "<Figure size 640x480 with 2 Axes>"
      ]
     },
     "metadata": {},
     "output_type": "display_data"
    },
    {
     "data": {
      "image/png": "[encoded data removed]",
      "text/plain": [
       "<Figure size 640x480 with 1 Axes>"
      ]
     },
     "metadata": {},
     "output_type": "display_data"
    }
   ],
   "source": [
    "# Reporte de métricas\n",
    "print(\"Reporte de Clasificación:\\n\", classification_report(y_test, y_pred))\n",
    "\n",
    "# Matriz de Confusión\n",
    "conf_matrix = confusion_matrix(y_test, y_pred)\n",
    "sns.heatmap(conf_matrix, annot=True, fmt='d', cmap='Blues')\n",
    "plt.title(\"Matriz de Confusión\")\n",
    "plt.xlabel(\"Predicción\")\n",
    "plt.ylabel(\"Real\")\n",
    "plt.show()\n",
    "\n",
    "# Curva ROC\n",
    "y_pred_prob = model.predict_proba(X_test)[:, 1]\n",
    "fpr, tpr, thresholds = roc_curve(y_test, y_pred_prob)\n",
    "roc_auc = auc(fpr, tpr)\n",
    "\n",
    "plt.plot(fpr, tpr, label=f'AUC = {roc_auc:.2f}')\n",
    "plt.plot([0, 1], [0, 1], linestyle='--')\n",
    "plt.title(\"Curva ROC\")\n",
    "plt.xlabel(\"FPR\")\n",
    "plt.ylabel(\"TPR\")\n",
    "plt.legend()\n",
    "plt.show()"
   ]
  },
  {
   "cell_type": "markdown",
   "id": "42f0191d-6b50-44bd-bb44-6987ec3246ee",
   "metadata": {},
   "source": [
    "<h1>Interpretacion de resultados"
   ]
  },
  {
   "cell_type": "markdown",
   "id": "72e2c09f-e2bb-407c-9792-9c7b266c44d7",
   "metadata": {},
   "source": [
    "<h1>1 Preprocesamiento de Datos:"
   ]
  },
  {
   "cell_type": "markdown",
   "id": "2616ac8f-2ace-4257-ad5c-4fe591f3f77e",
   "metadata": {},
   "source": [
    "<h1>Valores faltantes: Se imputaron valores en las columnas Age y Survived con la mediana y la moda respectivamente, asegurando que no hubiera valores nulos que afecten el modelo."
   ]
  },
  {
   "cell_type": "markdown",
   "id": "f5d172b9-b4b5-47ec-8cb5-1ebdf617f67c",
   "metadata": {},
   "source": [
    "<h1>Variables categóricas: Se transformaron variables como Sex en dummies para que sean interpretables por el modelo."
   ]
  },
  {
   "cell_type": "markdown",
   "id": "546fe600-53a5-4122-8254-da5e240bfd3e",
   "metadata": {},
   "source": [
    "<h1>Columnas eliminadas: Se descartaron columnas irrelevantes como Cabin, Ticket, y Name, ya que no aportan información significativa al modelo."
   ]
  },
  {
   "cell_type": "markdown",
   "id": "7717717c-3779-4017-813a-2009c12d5c50",
   "metadata": {},
   "source": [
    "<h1>2 Entrenamiento del Modelo:"
   ]
  },
  {
   "cell_type": "markdown",
   "id": "e1bbb257-4d0a-4810-9d1f-3fa041a30c51",
   "metadata": {},
   "source": [
    "<h1>El modelo de regresión logística fue entrenado con las características seleccionadas tras el preprocesamiento. Los coeficientes obtenidos indican cómo cada característica afecta la probabilidad de supervivencia:"
   ]
  },
  {
   "cell_type": "markdown",
   "id": "f4a6767a-b7f1-4ad6-8e33-7bba6eb6e0af",
   "metadata": {},
   "source": [
    "<h1>Un coeficiente positivo sugiere que un aumento en esa característica incrementa la probabilidad de sobrevivir."
   ]
  },
  {
   "cell_type": "markdown",
   "id": "b4234c13-4349-4bc2-95fc-f059b2e0a9c0",
   "metadata": {},
   "source": [
    "<h1>Un coeficiente negativo indica que un aumento reduce esa probabilidad."
   ]
  },
  {
   "cell_type": "markdown",
   "id": "64175d98-0a35-4802-9e9e-89f8cd0fb1cf",
   "metadata": {},
   "source": [
    "<h1>3 Desempeño del Modelo:"
   ]
  },
  {
   "cell_type": "markdown",
   "id": "cdedafae-255d-4d49-b398-9d39c1d19d2e",
   "metadata": {},
   "source": [
    "<h1>Precisión del modelo: Indica qué proporción de las predicciones del modelo fueron correctas. Por ejemplo, si la precisión es 0.80, significa que el modelo acertó en el 80% de los casos."
   ]
  },
  {
   "cell_type": "markdown",
   "id": "bcf4b4b2-6a69-43e9-b91c-3e4b75115f77",
   "metadata": {},
   "source": [
    "<h1>Reporte de clasificación: Proporciona métricas como:\n"
   ]
  },
  {
   "cell_type": "markdown",
   "id": "34237bc5-0d68-4f6e-99ff-c32602eca04c",
   "metadata": {},
   "source": [
    "<h1>Precisión (Precision): Qué proporción de las predicciones positivas fueron correctas."
   ]
  },
  {
   "cell_type": "markdown",
   "id": "e6b1c577-d070-4ddb-b807-da2e69fb72e2",
   "metadata": {},
   "source": [
    "<h1>Exhaustividad (Recall): Qué proporción de los verdaderos positivos fueron detectados."
   ]
  },
  {
   "cell_type": "markdown",
   "id": "0438038f-1440-450f-a1e1-77ebd8ea4acc",
   "metadata": {},
   "source": [
    "<h1>F1-score: Media armónica entre precisión y exhaustividad, ideal para datasets desbalanceados."
   ]
  },
  {
   "cell_type": "markdown",
   "id": "e82e0f8e-83c7-443e-82b0-f2823d911208",
   "metadata": {},
   "source": [
    "<h1>Matriz de confusión: Muestra los aciertos y errores del modelo divididos en cuatro categorías:"
   ]
  },
  {
   "cell_type": "markdown",
   "id": "f9dffedc-85dd-48c4-8a0f-9d15af5422c1",
   "metadata": {},
   "source": [
    "<h1>Verdaderos positivos (VP)"
   ]
  },
  {
   "cell_type": "markdown",
   "id": "f826c8f7-9196-4394-b842-bf65694643f8",
   "metadata": {},
   "source": [
    "<h1>Verdaderos negativos (VN)"
   ]
  },
  {
   "cell_type": "markdown",
   "id": "2b536d6d-7fd2-4174-b446-57514d4622d1",
   "metadata": {},
   "source": [
    "<h1>Falsos positivos (FP)"
   ]
  },
  {
   "cell_type": "markdown",
   "id": "1b6d1c0f-1dd9-4cef-ac00-ad45bd50b222",
   "metadata": {},
   "source": [
    "<h1>Falsos negativos (FN)"
   ]
  },
  {
   "cell_type": "markdown",
   "id": "76ae5dc8-dea5-43fb-b0b0-78def03f417d",
   "metadata": {},
   "source": [
    "<h1>4 Gráficas de Desempeño:"
   ]
  },
  {
   "cell_type": "markdown",
   "id": "5da68998-bef4-47d5-b434-49a0bf7561a9",
   "metadata": {},
   "source": [
    "<h1>Curva ROC: Evalúa la capacidad del modelo para distinguir entre clases. El área bajo la curva (AUC) indica qué tan bien el modelo separa a los sobrevivientes de los no sobrevivientes."
   ]
  },
  {
   "cell_type": "markdown",
   "id": "65e47aba-b549-4dac-81df-2610bea80608",
   "metadata": {},
   "source": [
    "<h1>Matriz de confusión visualizada: Ofrece una representación gráfica de los aciertos y errores, facilitando la interpretación."
   ]
  },
  {
   "cell_type": "markdown",
   "id": "00d42fab-ef5e-44c5-856c-7240d98a5faf",
   "metadata": {},
   "source": [
    "<h1>El modelo de regresión logística, tras su entrenamiento, muestra un desempeño razonable para predecir la supervivencia en el Titanic basado en variables como clase social, género y edad. Si bien la precisión es importante, el análisis detallado de métricas como recall y F1-score ayuda a identificar posibles áreas de mejora, especialmente si se detecta un desbalance en las clases con ajustes adicionales (como selección de características más específicas o inclusión de más datos), se podría mejorar aún más el rendimiento del modelo."
   ]
  },
  {
   "cell_type": "code",
   "execution_count": null,
   "id": "94d7fd88-e87a-498b-93a3-2827dfbfff9b",
   "metadata": {},
   "outputs": [],
   "source": []
  }
 ],
 "metadata": {
  "kernelspec": {
   "display_name": "Python [conda env:base] *",
   "language": "python",
   "name": "conda-base-py"
  },
  "language_info": {
   "codemirror_mode": {
    "name": "ipython",
    "version": 3
   },
   "file_extension": ".py",
   "mimetype": "text/x-python",
   "name": "python",
   "nbconvert_exporter": "python",
   "pygments_lexer": "ipython3",
   "version": "3.12.7"
  }
 },
 "nbformat": 4,
 "nbformat_minor": 5
}
